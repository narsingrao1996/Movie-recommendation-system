{
 "cells": [
  {
   "cell_type": "markdown",
   "id": "ef68b68a",
   "metadata": {},
   "source": [
    "### Load The Data"
   ]
  },
  {
   "cell_type": "code",
   "execution_count": 160,
   "id": "f9aa2791",
   "metadata": {},
   "outputs": [],
   "source": [
    "import os\n",
    "import pandas as pd\n",
    "import numpy as np\n",
    "import matplotlib.pyplot as plt\n",
    "import sklearn as sk"
   ]
  },
  {
   "cell_type": "code",
   "execution_count": 161,
   "id": "08d6d906",
   "metadata": {},
   "outputs": [],
   "source": [
    "ratings=pd.read_csv(\"C:\\\\Users\\\\Sai Kiran\\\\OneDrive\\\\Desktop\\\\projects\\\\mrsy_ml\\\\ratings.csv\")\n",
    "movies=pd.read_csv(\"C:\\\\Users\\\\Sai Kiran\\\\OneDrive\\\\Desktop\\\\projects\\\\mrsy_ml\\\\movies.csv\")\n",
    "credits=pd.read_csv(\"C:\\\\Users\\\\Sai Kiran\\\\OneDrive\\\\Desktop\\\\projects\\\\mrsy_ml\\\\credits.csv\")\n",
    "movies1= pd.read_csv(\"C:\\\\Users\\\\Sai Kiran\\\\OneDrive\\\\Desktop\\\\projects\\\\mrsy_ml\\\\movies_small.csv\",sep=\";\")"
   ]
  },
  {
   "cell_type": "code",
   "execution_count": 162,
   "id": "6015a0b3",
   "metadata": {},
   "outputs": [
    {
     "data": {
      "text/html": [
       "<div>\n",
       "<style scoped>\n",
       "    .dataframe tbody tr th:only-of-type {\n",
       "        vertical-align: middle;\n",
       "    }\n",
       "\n",
       "    .dataframe tbody tr th {\n",
       "        vertical-align: top;\n",
       "    }\n",
       "\n",
       "    .dataframe thead th {\n",
       "        text-align: right;\n",
       "    }\n",
       "</style>\n",
       "<table border=\"1\" class=\"dataframe\">\n",
       "  <thead>\n",
       "    <tr style=\"text-align: right;\">\n",
       "      <th></th>\n",
       "      <th>movie_id</th>\n",
       "      <th>title</th>\n",
       "      <th>cast</th>\n",
       "      <th>crew</th>\n",
       "    </tr>\n",
       "  </thead>\n",
       "  <tbody>\n",
       "    <tr>\n",
       "      <th>0</th>\n",
       "      <td>19995</td>\n",
       "      <td>Avatar</td>\n",
       "      <td>[{\"cast_id\": 242, \"character\": \"Jake Sully\", \"...</td>\n",
       "      <td>[{\"credit_id\": \"52fe48009251416c750aca23\", \"de...</td>\n",
       "    </tr>\n",
       "    <tr>\n",
       "      <th>1</th>\n",
       "      <td>285</td>\n",
       "      <td>Pirates of the Caribbean: At World's End</td>\n",
       "      <td>[{\"cast_id\": 4, \"character\": \"Captain Jack Spa...</td>\n",
       "      <td>[{\"credit_id\": \"52fe4232c3a36847f800b579\", \"de...</td>\n",
       "    </tr>\n",
       "    <tr>\n",
       "      <th>2</th>\n",
       "      <td>206647</td>\n",
       "      <td>Spectre</td>\n",
       "      <td>[{\"cast_id\": 1, \"character\": \"James Bond\", \"cr...</td>\n",
       "      <td>[{\"credit_id\": \"54805967c3a36829b5002c41\", \"de...</td>\n",
       "    </tr>\n",
       "    <tr>\n",
       "      <th>3</th>\n",
       "      <td>49026</td>\n",
       "      <td>The Dark Knight Rises</td>\n",
       "      <td>[{\"cast_id\": 2, \"character\": \"Bruce Wayne / Ba...</td>\n",
       "      <td>[{\"credit_id\": \"52fe4781c3a36847f81398c3\", \"de...</td>\n",
       "    </tr>\n",
       "    <tr>\n",
       "      <th>4</th>\n",
       "      <td>49529</td>\n",
       "      <td>John Carter</td>\n",
       "      <td>[{\"cast_id\": 5, \"character\": \"John Carter\", \"c...</td>\n",
       "      <td>[{\"credit_id\": \"52fe479ac3a36847f813eaa3\", \"de...</td>\n",
       "    </tr>\n",
       "  </tbody>\n",
       "</table>\n",
       "</div>"
      ],
      "text/plain": [
       "   movie_id                                     title  \\\n",
       "0     19995                                    Avatar   \n",
       "1       285  Pirates of the Caribbean: At World's End   \n",
       "2    206647                                   Spectre   \n",
       "3     49026                     The Dark Knight Rises   \n",
       "4     49529                               John Carter   \n",
       "\n",
       "                                                cast  \\\n",
       "0  [{\"cast_id\": 242, \"character\": \"Jake Sully\", \"...   \n",
       "1  [{\"cast_id\": 4, \"character\": \"Captain Jack Spa...   \n",
       "2  [{\"cast_id\": 1, \"character\": \"James Bond\", \"cr...   \n",
       "3  [{\"cast_id\": 2, \"character\": \"Bruce Wayne / Ba...   \n",
       "4  [{\"cast_id\": 5, \"character\": \"John Carter\", \"c...   \n",
       "\n",
       "                                                crew  \n",
       "0  [{\"credit_id\": \"52fe48009251416c750aca23\", \"de...  \n",
       "1  [{\"credit_id\": \"52fe4232c3a36847f800b579\", \"de...  \n",
       "2  [{\"credit_id\": \"54805967c3a36829b5002c41\", \"de...  \n",
       "3  [{\"credit_id\": \"52fe4781c3a36847f81398c3\", \"de...  \n",
       "4  [{\"credit_id\": \"52fe479ac3a36847f813eaa3\", \"de...  "
      ]
     },
     "execution_count": 162,
     "metadata": {},
     "output_type": "execute_result"
    }
   ],
   "source": [
    "credits.head(5)"
   ]
  },
  {
   "cell_type": "code",
   "execution_count": 163,
   "id": "32c5eb6e",
   "metadata": {},
   "outputs": [
    {
     "data": {
      "text/plain": [
       "(4803, 4)"
      ]
     },
     "execution_count": 163,
     "metadata": {},
     "output_type": "execute_result"
    }
   ],
   "source": [
    "credits.shape"
   ]
  },
  {
   "cell_type": "code",
   "execution_count": 164,
   "id": "d4bdfd03",
   "metadata": {},
   "outputs": [
    {
     "data": {
      "text/html": [
       "<div>\n",
       "<style scoped>\n",
       "    .dataframe tbody tr th:only-of-type {\n",
       "        vertical-align: middle;\n",
       "    }\n",
       "\n",
       "    .dataframe tbody tr th {\n",
       "        vertical-align: top;\n",
       "    }\n",
       "\n",
       "    .dataframe thead th {\n",
       "        text-align: right;\n",
       "    }\n",
       "</style>\n",
       "<table border=\"1\" class=\"dataframe\">\n",
       "  <thead>\n",
       "    <tr style=\"text-align: right;\">\n",
       "      <th></th>\n",
       "      <th>movie_id</th>\n",
       "    </tr>\n",
       "  </thead>\n",
       "  <tbody>\n",
       "    <tr>\n",
       "      <th>count</th>\n",
       "      <td>4803.000000</td>\n",
       "    </tr>\n",
       "    <tr>\n",
       "      <th>mean</th>\n",
       "      <td>57165.484281</td>\n",
       "    </tr>\n",
       "    <tr>\n",
       "      <th>std</th>\n",
       "      <td>88694.614033</td>\n",
       "    </tr>\n",
       "    <tr>\n",
       "      <th>min</th>\n",
       "      <td>5.000000</td>\n",
       "    </tr>\n",
       "    <tr>\n",
       "      <th>25%</th>\n",
       "      <td>9014.500000</td>\n",
       "    </tr>\n",
       "    <tr>\n",
       "      <th>50%</th>\n",
       "      <td>14629.000000</td>\n",
       "    </tr>\n",
       "    <tr>\n",
       "      <th>75%</th>\n",
       "      <td>58610.500000</td>\n",
       "    </tr>\n",
       "    <tr>\n",
       "      <th>max</th>\n",
       "      <td>459488.000000</td>\n",
       "    </tr>\n",
       "  </tbody>\n",
       "</table>\n",
       "</div>"
      ],
      "text/plain": [
       "            movie_id\n",
       "count    4803.000000\n",
       "mean    57165.484281\n",
       "std     88694.614033\n",
       "min         5.000000\n",
       "25%      9014.500000\n",
       "50%     14629.000000\n",
       "75%     58610.500000\n",
       "max    459488.000000"
      ]
     },
     "execution_count": 164,
     "metadata": {},
     "output_type": "execute_result"
    }
   ],
   "source": [
    "credits.describe()"
   ]
  },
  {
   "cell_type": "markdown",
   "id": "7de65788",
   "metadata": {},
   "source": [
    "# Popularity-Based Filtering"
   ]
  },
  {
   "cell_type": "markdown",
   "id": "465e5de8",
   "metadata": {},
   "source": [
    "### calculate weighted rating\n",
    "\n",
    "WR = (v ÷ (v+m)) × R + (m ÷ (v+m)) × C\n",
    "\n",
    "* R = average rating for the movie (mean) \n",
    "* v = number of votes for the movie \n",
    "* m = minimum votesfor required \n",
    "* C = average rating across all movies"
   ]
  },
  {
   "cell_type": "code",
   "execution_count": 165,
   "id": "ca11a6e8",
   "metadata": {},
   "outputs": [
    {
     "data": {
      "text/plain": [
       "1838.4000000000015"
      ]
     },
     "execution_count": 165,
     "metadata": {},
     "output_type": "execute_result"
    }
   ],
   "source": [
    "m = movies['vote_count'].quantile(0.9)\n",
    "m"
   ]
  },
  {
   "cell_type": "code",
   "execution_count": 167,
   "id": "9f52ce1e",
   "metadata": {},
   "outputs": [
    {
     "data": {
      "text/plain": [
       "6.092171559442011"
      ]
     },
     "execution_count": 167,
     "metadata": {},
     "output_type": "execute_result"
    }
   ],
   "source": [
    "C = movies['vote_average'].mean()\n",
    "C\n"
   ]
  },
  {
   "cell_type": "code",
   "execution_count": 178,
   "id": "ec40dcea",
   "metadata": {},
   "outputs": [],
   "source": [
    "movies_filter = movies.copy().loc[movies[\"vote_count\"] >= m]"
   ]
  },
  {
   "cell_type": "code",
   "execution_count": 179,
   "id": "638d2097",
   "metadata": {},
   "outputs": [],
   "source": [
    "def weighted_rating(row, m, C):\n",
    "    R = row['vote_average']\n",
    "    v = row['vote_count']\n",
    "    wr = ((v / v + m) * R) + ((m / (v + m)) * C)\n",
    "    return wr"
   ]
  },
  {
   "cell_type": "code",
   "execution_count": 180,
   "id": "5b28457a",
   "metadata": {},
   "outputs": [],
   "source": [
    "movies_filter[\"weighted_rating\"] = movies_filter.apply(weighted_rating, args=(m, C), axis=1)"
   ]
  },
  {
   "cell_type": "code",
   "execution_count": 181,
   "id": "31d8fbf7",
   "metadata": {},
   "outputs": [],
   "source": [
    "popalurity_based = movies_filter.sort_values(\"weighted_rating\", ascending=False)[[\"title\",\"weighted_rating\"]].head(100).to_dict()"
   ]
  },
  {
   "cell_type": "code",
   "execution_count": 182,
   "id": "10d86389",
   "metadata": {},
   "outputs": [
    {
     "data": {
      "text/plain": [
       "{'title': {1881: 'The Shawshank Redemption',\n",
       "  3337: 'The Godfather',\n",
       "  2731: 'The Godfather: Part II',\n",
       "  2294: 'Spirited Away',\n",
       "  3865: 'Whiplash',\n",
       "  1818: \"Schindler's List\",\n",
       "  3232: 'Pulp Fiction',\n",
       "  662: 'Fight Club',\n",
       "  2247: 'Princess Mononoke',\n",
       "  1987: \"Howl's Moving Castle\",\n",
       "  4602: '12 Angry Men',\n",
       "  2170: 'Psycho',\n",
       "  3719: \"One Flew Over the Cuckoo's Nest\",\n",
       "  3057: 'American History X',\n",
       "  1847: 'GoodFellas',\n",
       "  690: 'The Green Mile',\n",
       "  1990: 'The Empire Strikes Back',\n",
       "  809: 'Forrest Gump',\n",
       "  65: 'The Dark Knight',\n",
       "  4302: 'The Good, the Bad and the Ugly',\n",
       "  2453: 'Dead Poets Society',\n",
       "  2760: 'Room',\n",
       "  3454: 'The Usual Suspects',\n",
       "  2284: 'The Shining',\n",
       "  3573: 'Memento',\n",
       "  2091: 'The Silence of the Lambs',\n",
       "  1553: 'Se7en',\n",
       "  2912: 'Star Wars',\n",
       "  329: 'The Lord of the Rings: The Return of the King',\n",
       "  95: 'Interstellar',\n",
       "  96: 'Inception',\n",
       "  1405: 'The Pianist',\n",
       "  3940: 'Oldboy',\n",
       "  1525: 'Apocalypse Now',\n",
       "  4337: 'Taxi Driver',\n",
       "  1850: 'Scarface',\n",
       "  4300: 'Reservoir Dogs',\n",
       "  1196: 'The Prestige',\n",
       "  1532: 'The Grand Budapest Hotel',\n",
       "  494: 'The Lion King',\n",
       "  2522: 'The Imitation Game',\n",
       "  2285: 'Back to the Future',\n",
       "  77: 'Inside Out',\n",
       "  330: 'The Lord of the Rings: The Two Towers',\n",
       "  262: 'The Lord of the Rings: The Fellowship of the Ring',\n",
       "  3701: 'Requiem for a Dream',\n",
       "  2975: 'Good Will Hunting',\n",
       "  3571: 'Dallas Buyers Club',\n",
       "  2966: '2001: A Space Odyssey',\n",
       "  1051: 'Prisoners',\n",
       "  2516: 'American Beauty',\n",
       "  1725: 'Blade Runner',\n",
       "  2152: 'Eternal Sunshine of the Spotless Mind',\n",
       "  2105: '12 Years a Slave',\n",
       "  1997: 'Her',\n",
       "  351: 'The Departed',\n",
       "  3158: 'Alien',\n",
       "  1490: 'Return of the Jedi',\n",
       "  628: 'Saving Private Ryan',\n",
       "  274: 'Gladiator',\n",
       "  693: 'Gone Girl',\n",
       "  571: 'Inglourious Basterds',\n",
       "  298: 'The Wolf of Wall Street',\n",
       "  634: 'The Matrix',\n",
       "  94: 'Guardians of the Galaxy',\n",
       "  1819: 'The Help',\n",
       "  2862: 'About Time',\n",
       "  3887: 'Trainspotting',\n",
       "  2123: 'Spotlight',\n",
       "  2607: 'The Big Lebowski',\n",
       "  2178: 'Into the Wild',\n",
       "  1813: 'Gran Torino',\n",
       "  1260: 'Amélie',\n",
       "  2547: 'The Theory of Everything',\n",
       "  697: 'The Truman Show',\n",
       "  88: 'Big Hero 6',\n",
       "  57: 'WALL·E',\n",
       "  439: 'Shutter Island',\n",
       "  287: 'Django Unchained',\n",
       "  1332: 'Rush',\n",
       "  1557: 'Million Dollar Baby',\n",
       "  824: 'The Pursuit of Happyness',\n",
       "  2905: 'Snatch',\n",
       "  2776: 'The Perks of Being a Wallflower',\n",
       "  1829: 'No Country for Old Men',\n",
       "  493: 'A Beautiful Mind',\n",
       "  1559: 'The Notebook',\n",
       "  1145: 'The Sixth Sense',\n",
       "  2403: 'Aliens',\n",
       "  556: 'Braveheart',\n",
       "  3706: 'Donnie Darko',\n",
       "  883: 'Catch Me If You Can',\n",
       "  2085: 'Raiders of the Lost Ark',\n",
       "  279: 'Terminator 2: Judgment Day',\n",
       "  932: 'V for Vendetta',\n",
       "  828: 'Kill Bill: Vol. 1',\n",
       "  1541: 'Toy Story',\n",
       "  191: 'Harry Potter and the Prisoner of Azkaban',\n",
       "  66: 'Up',\n",
       "  583: 'Big Fish'},\n",
       " 'weighted_rating': {1881: 15636.01514508981,\n",
       "  3337: 15452.408618386708,\n",
       "  2731: 15269.183636541795,\n",
       "  2294: 15268.992359853999,\n",
       "  3865: 15268.85833106739,\n",
       "  1818: 15268.835975645323,\n",
       "  3232: 15268.110922640362,\n",
       "  662: 15268.015418187517,\n",
       "  2247: 15086.0108233095,\n",
       "  1987: 15086.004700526171,\n",
       "  4602: 15085.939730414391,\n",
       "  2170: 15085.773307088044,\n",
       "  3719: 15085.434195189584,\n",
       "  3057: 15085.38715396237,\n",
       "  1847: 15085.335124072755,\n",
       "  690: 15084.98266515951,\n",
       "  1990: 15084.531246299915,\n",
       "  809: 15084.226890879532,\n",
       "  65: 15083.889214198653,\n",
       "  4302: 14901.839148839572,\n",
       "  2453: 14901.605080819414,\n",
       "  2760: 14901.577186794388,\n",
       "  3454: 14901.339326092791,\n",
       "  2284: 14901.14161707741,\n",
       "  3573: 14901.049151812857,\n",
       "  2091: 14900.923017829615,\n",
       "  1553: 14900.61300526014,\n",
       "  2912: 14900.46348366834,\n",
       "  329: 14900.27102360993,\n",
       "  95: 14900.021502998332,\n",
       "  96: 14899.858381067519,\n",
       "  1405: 14718.225023821014,\n",
       "  3940: 14718.160260135042,\n",
       "  1525: 14718.076624080475,\n",
       "  4337: 14717.760901860092,\n",
       "  1850: 14717.539931513233,\n",
       "  4300: 14717.223313255581,\n",
       "  1196: 14716.997901594848,\n",
       "  1532: 14716.961702613482,\n",
       "  494: 14716.752429612297,\n",
       "  2522: 14716.681187107542,\n",
       "  2285: 14716.61458663134,\n",
       "  77: 14716.533569274501,\n",
       "  330: 14716.401004589077,\n",
       "  262: 14716.262261528065,\n",
       "  3701: 14533.875931282975,\n",
       "  2975: 14533.668880327556,\n",
       "  3571: 14533.630639275874,\n",
       "  2966: 14533.575740673836,\n",
       "  1051: 14533.534819879544,\n",
       "  2516: 14533.43413677737,\n",
       "  1725: 14533.354447431453,\n",
       "  2152: 14533.299896582206,\n",
       "  2105: 14533.291755350654,\n",
       "  1997: 14533.14695760942,\n",
       "  351: 14533.073035936633,\n",
       "  3158: 14533.03538649974,\n",
       "  1490: 14532.982152750094,\n",
       "  628: 14532.886372007866,\n",
       "  274: 14532.798990325524,\n",
       "  693: 14532.714450183754,\n",
       "  571: 14532.614536330486,\n",
       "  298: 14532.59182488584,\n",
       "  634: 14532.30229234789,\n",
       "  94: 14532.227138284949,\n",
       "  1819: 14350.307901023081,\n",
       "  2862: 14350.187785167953,\n",
       "  3887: 14349.81251083699,\n",
       "  2123: 14349.795432807648,\n",
       "  2607: 14349.670736335096,\n",
       "  2178: 14349.613452962061,\n",
       "  1813: 14349.5943579309,\n",
       "  1260: 14349.495403658406,\n",
       "  2547: 14349.494981200709,\n",
       "  697: 14349.076728706426,\n",
       "  88: 14348.724651490576,\n",
       "  57: 14348.69684994529,\n",
       "  439: 14348.690112570337,\n",
       "  287: 14348.258215038031,\n",
       "  1332: 14166.10144826625,\n",
       "  1557: 14165.998377564625,\n",
       "  824: 14165.946770911429,\n",
       "  2905: 14165.737664237735,\n",
       "  2776: 14165.710194780904,\n",
       "  1829: 14165.693349071536,\n",
       "  493: 14165.690485661373,\n",
       "  1559: 14165.663167161687,\n",
       "  1145: 14165.626529505142,\n",
       "  2403: 14165.594108847647,\n",
       "  556: 14165.54447282679,\n",
       "  3706: 14165.497013495187,\n",
       "  883: 14165.36811520484,\n",
       "  2085: 14165.34750899356,\n",
       "  279: 14165.239389745817,\n",
       "  932: 14165.16330173157,\n",
       "  828: 14165.030094026426,\n",
       "  1541: 14164.955801023576,\n",
       "  191: 14164.831622494617,\n",
       "  66: 14164.66609712404,\n",
       "  583: 13982.362411072674}}"
      ]
     },
     "execution_count": 182,
     "metadata": {},
     "output_type": "execute_result"
    }
   ],
   "source": [
    "popalurity_based"
   ]
  },
  {
   "cell_type": "code",
   "execution_count": null,
   "id": "0b89a647",
   "metadata": {},
   "outputs": [],
   "source": []
  }
 ],
 "metadata": {
  "kernelspec": {
   "display_name": "Python 3 (ipykernel)",
   "language": "python",
   "name": "python3"
  },
  "language_info": {
   "codemirror_mode": {
    "name": "ipython",
    "version": 3
   },
   "file_extension": ".py",
   "mimetype": "text/x-python",
   "name": "python",
   "nbconvert_exporter": "python",
   "pygments_lexer": "ipython3",
   "version": "3.9.12"
  },
  "varInspector": {
   "cols": {
    "lenName": 16,
    "lenType": 16,
    "lenVar": 40
   },
   "kernels_config": {
    "python": {
     "delete_cmd_postfix": "",
     "delete_cmd_prefix": "del ",
     "library": "var_list.py",
     "varRefreshCmd": "print(var_dic_list())"
    },
    "r": {
     "delete_cmd_postfix": ") ",
     "delete_cmd_prefix": "rm(",
     "library": "var_list.r",
     "varRefreshCmd": "cat(var_dic_list()) "
    }
   },
   "types_to_exclude": [
    "module",
    "function",
    "builtin_function_or_method",
    "instance",
    "_Feature"
   ],
   "window_display": false
  }
 },
 "nbformat": 4,
 "nbformat_minor": 5
}
